{
 "cells": [
  {
   "cell_type": "code",
   "execution_count": 1,
   "metadata": {},
   "outputs": [],
   "source": [
    "%reload_ext autoreload\n",
    "%autoreload 2\n",
    "%matplotlib inline"
   ]
  },
  {
   "cell_type": "code",
   "execution_count": 2,
   "metadata": {},
   "outputs": [],
   "source": [
    "from fastai.imports import *\n",
    "from fastai.transforms import *\n",
    "from fastai.conv_learner import *\n",
    "from fastai.model import *\n",
    "from fastai.dataset import *\n",
    "from fastai.sgdr import *\n",
    "from fastai.plots import *"
   ]
  },
  {
   "cell_type": "code",
   "execution_count": 3,
   "metadata": {},
   "outputs": [],
   "source": [
    "PATH = \"data/dogbreed/\""
   ]
  },
  {
   "cell_type": "code",
   "execution_count": 4,
   "metadata": {},
   "outputs": [],
   "source": [
    "sz = 256\n",
    "arch = inceptionresnet_2\n",
    "bs = 32\n",
    "# Jeremy tried 224, 58 and 299, 58"
   ]
  },
  {
   "cell_type": "code",
   "execution_count": 5,
   "metadata": {},
   "outputs": [],
   "source": [
    "label_csv = f'{PATH}labels.csv'\n",
    "n = len(list(open(label_csv))) - 1\n",
    "val_idxs = get_cv_idxs(n)"
   ]
  },
  {
   "cell_type": "code",
   "execution_count": 6,
   "metadata": {},
   "outputs": [],
   "source": [
    "label_df = pd.read_csv(label_csv)"
   ]
  },
  {
   "cell_type": "code",
   "execution_count": null,
   "metadata": {},
   "outputs": [],
   "source": [
    "label_df.pivot_table(index='breed', aggfunc=len).sort_values('id', ascending=False)"
   ]
  },
  {
   "cell_type": "code",
   "execution_count": 7,
   "metadata": {},
   "outputs": [],
   "source": [
    "def get_data(sz, bs):\n",
    "    tfms = tfms_from_model(arch, sz, aug_tfms=transforms_side_on, max_zoom=1.1)\n",
    "    data = ImageClassifierData.from_csv(PATH, 'train', f'{PATH}labels.csv', test_name='test',\n",
    "                                        val_idxs=val_idxs, suffix='.jpg', tfms=tfms, bs=bs)\n",
    "    return data if sz>300 else data.resize(340, 'tmp')"
   ]
  },
  {
   "cell_type": "markdown",
   "metadata": {},
   "source": [
    "## Precompute"
   ]
  },
  {
   "cell_type": "code",
   "execution_count": 8,
   "metadata": {},
   "outputs": [
    {
     "data": {
      "application/vnd.jupyter.widget-view+json": {
       "model_id": "4779b817e3f84cc5970279a4b6e81382",
       "version_major": 2,
       "version_minor": 0
      },
      "text/plain": [
       "A Jupyter Widget"
      ]
     },
     "metadata": {},
     "output_type": "display_data"
    },
    {
     "name": "stdout",
     "output_type": "stream",
     "text": [
      "\n"
     ]
    }
   ],
   "source": [
    "data = get_data(sz, bs)"
   ]
  },
  {
   "cell_type": "code",
   "execution_count": 9,
   "metadata": {},
   "outputs": [
    {
     "name": "stdout",
     "output_type": "stream",
     "text": [
      "100%|██████████| 256/256 [09:22<00:00,  2.20s/it]\n",
      "100%|██████████| 64/64 [01:15<00:00,  1.18s/it]\n",
      "100%|██████████| 324/324 [06:10<00:00,  1.14s/it]\n"
     ]
    }
   ],
   "source": [
    "learn = ConvLearner.pretrained(arch, data, precompute=True)"
   ]
  },
  {
   "cell_type": "code",
   "execution_count": 10,
   "metadata": {},
   "outputs": [
    {
     "data": {
      "application/vnd.jupyter.widget-view+json": {
       "model_id": "2d8dd49ceb5b4e0a93baf467c5221062",
       "version_major": 2,
       "version_minor": 0
      },
      "text/plain": [
       "A Jupyter Widget"
      ]
     },
     "metadata": {},
     "output_type": "display_data"
    },
    {
     "name": "stdout",
     "output_type": "stream",
     "text": [
      "[ 0.       0.5184   0.34153  0.90416]                        \n",
      "[ 1.       0.39128  0.33756  0.90269]                        \n",
      "\n"
     ]
    }
   ],
   "source": [
    "learn.fit(1e-2, 2)"
   ]
  },
  {
   "cell_type": "code",
   "execution_count": 11,
   "metadata": {},
   "outputs": [
    {
     "data": {
      "application/vnd.jupyter.widget-view+json": {
       "model_id": "1d2a8e4af2ca41168cda6c4238fe8649",
       "version_major": 2,
       "version_minor": 0
      },
      "text/plain": [
       "A Jupyter Widget"
      ]
     },
     "metadata": {},
     "output_type": "display_data"
    },
    {
     "name": "stdout",
     "output_type": "stream",
     "text": [
      "[ 0.       0.34406  0.33289  0.9036 ]                        \n",
      "[ 1.      0.3073  0.348   0.9036]                            \n",
      "[ 2.       0.25114  0.33486  0.91295]                        \n",
      "\n"
     ]
    }
   ],
   "source": [
    "learn.fit(1e-2, 3)"
   ]
  },
  {
   "cell_type": "markdown",
   "metadata": {},
   "source": [
    "## Augment"
   ]
  },
  {
   "cell_type": "code",
   "execution_count": 12,
   "metadata": {},
   "outputs": [],
   "source": [
    "from sklearn import metrics"
   ]
  },
  {
   "cell_type": "code",
   "execution_count": 13,
   "metadata": {},
   "outputs": [
    {
     "data": {
      "application/vnd.jupyter.widget-view+json": {
       "model_id": "4b2312848ae8478d87b3ec87a6068967",
       "version_major": 2,
       "version_minor": 0
      },
      "text/plain": [
       "A Jupyter Widget"
      ]
     },
     "metadata": {},
     "output_type": "display_data"
    },
    {
     "name": "stdout",
     "output_type": "stream",
     "text": [
      "\n"
     ]
    }
   ],
   "source": [
    "data = get_data(sz, bs)"
   ]
  },
  {
   "cell_type": "code",
   "execution_count": 14,
   "metadata": {},
   "outputs": [],
   "source": [
    "learn = ConvLearner.pretrained(arch, data, precompute=True, ps=0.5)"
   ]
  },
  {
   "cell_type": "code",
   "execution_count": 15,
   "metadata": {},
   "outputs": [
    {
     "data": {
      "application/vnd.jupyter.widget-view+json": {
       "model_id": "bfbe0412a67a40ccb3ebdb8c7c2bfe6b",
       "version_major": 2,
       "version_minor": 0
      },
      "text/plain": [
       "A Jupyter Widget"
      ]
     },
     "metadata": {},
     "output_type": "display_data"
    },
    {
     "name": "stdout",
     "output_type": "stream",
     "text": [
      "[ 0.       0.57741  0.3468   0.9013 ]                        \n",
      "[ 1.       0.42838  0.32876  0.90367]                        \n",
      "\n"
     ]
    }
   ],
   "source": [
    "learn.fit(1e-2, 2)"
   ]
  },
  {
   "cell_type": "code",
   "execution_count": 16,
   "metadata": {},
   "outputs": [],
   "source": [
    "learn.precompute=False\n",
    "learn.bn_freeze=True"
   ]
  },
  {
   "cell_type": "code",
   "execution_count": 17,
   "metadata": {},
   "outputs": [
    {
     "data": {
      "application/vnd.jupyter.widget-view+json": {
       "model_id": "743b50dbe12845cf98ca455f72322428",
       "version_major": 2,
       "version_minor": 0
      },
      "text/plain": [
       "A Jupyter Widget"
      ]
     },
     "metadata": {},
     "output_type": "display_data"
    },
    {
     "name": "stdout",
     "output_type": "stream",
     "text": [
      "[ 0.       0.43426  0.30978  0.90953]                        \n",
      "[ 1.       0.40703  0.31561  0.91099]                        \n",
      "[ 2.       0.39883  0.31612  0.91295]                        \n",
      "[ 3.       0.37582  0.31406  0.90513]                        \n",
      "[ 4.       0.39464  0.31199  0.90806]                        \n",
      "\n"
     ]
    }
   ],
   "source": [
    "learn.fit(1e-2, 5, cycle_len=1)"
   ]
  },
  {
   "cell_type": "code",
   "execution_count": 18,
   "metadata": {},
   "outputs": [],
   "source": [
    "learn.save('224_ir2_pre')"
   ]
  },
  {
   "cell_type": "code",
   "execution_count": 19,
   "metadata": {},
   "outputs": [],
   "source": [
    "learn.load('224_ir2_pre')"
   ]
  },
  {
   "cell_type": "markdown",
   "metadata": {},
   "source": [
    "## Increase size"
   ]
  },
  {
   "cell_type": "code",
   "execution_count": 20,
   "metadata": {},
   "outputs": [],
   "source": [
    "learn.set_data(get_data(350, bs))\n",
    "learn.freeze()"
   ]
  },
  {
   "cell_type": "code",
   "execution_count": 21,
   "metadata": {},
   "outputs": [
    {
     "data": {
      "application/vnd.jupyter.widget-view+json": {
       "model_id": "7bf1310f3c5543e9b49ad922b1394cda",
       "version_major": 2,
       "version_minor": 0
      },
      "text/plain": [
       "A Jupyter Widget"
      ]
     },
     "metadata": {},
     "output_type": "display_data"
    },
    {
     "name": "stdout",
     "output_type": "stream",
     "text": [
      "[ 0.       0.26425  0.20561  0.94085]                        \n",
      "[ 1.       0.23699  0.20112  0.9375 ]                        \n",
      "[ 2.       0.25931  0.20431  0.93555]                        \n",
      "\n"
     ]
    }
   ],
   "source": [
    "learn.fit(1e-2, 3, cycle_len=1)"
   ]
  },
  {
   "cell_type": "code",
   "execution_count": 22,
   "metadata": {},
   "outputs": [
    {
     "data": {
      "application/vnd.jupyter.widget-view+json": {
       "model_id": "62ece679c45a46c4888c8106f544618d",
       "version_major": 2,
       "version_minor": 0
      },
      "text/plain": [
       "A Jupyter Widget"
      ]
     },
     "metadata": {},
     "output_type": "display_data"
    },
    {
     "name": "stdout",
     "output_type": "stream",
     "text": [
      "[ 0.       0.2512   0.20465  0.94092]                        \n",
      "[ 1.       0.23679  0.21176  0.93897]                        \n",
      "[ 2.       0.21673  0.2053   0.93701]                        \n",
      "[ 3.       0.24298  0.22057  0.93555]                        \n",
      "[ 4.       0.2336   0.20631  0.94141]                        \n",
      "[ 5.       0.21032  0.20672  0.93945]                        \n",
      "[ 6.       0.23118  0.20698  0.93945]                        \n",
      "\n"
     ]
    }
   ],
   "source": [
    "learn.fit(1e-2, 3, cycle_len=1, cycle_mult=2)"
   ]
  },
  {
   "cell_type": "code",
   "execution_count": 23,
   "metadata": {},
   "outputs": [
    {
     "name": "stdout",
     "output_type": "stream",
     "text": [
      "                                              \r"
     ]
    },
    {
     "data": {
      "text/plain": [
       "(0.94227005870841485, 0.19324874883224669)"
      ]
     },
     "execution_count": 23,
     "metadata": {},
     "output_type": "execute_result"
    }
   ],
   "source": [
    "log_preds, y = learn.TTA()\n",
    "probs = np.exp(log_preds)\n",
    "accuracy(log_preds, y), metrics.log_loss(y, probs)"
   ]
  },
  {
   "cell_type": "code",
   "execution_count": 25,
   "metadata": {},
   "outputs": [],
   "source": [
    "learn.save('350_ir2_pre')"
   ]
  },
  {
   "cell_type": "code",
   "execution_count": 26,
   "metadata": {},
   "outputs": [],
   "source": [
    "learn.load('350_ir2_pre')"
   ]
  },
  {
   "cell_type": "code",
   "execution_count": 27,
   "metadata": {},
   "outputs": [
    {
     "data": {
      "application/vnd.jupyter.widget-view+json": {
       "model_id": "54aa70eb7a8548a58c27cb4e1a7bd7a4",
       "version_major": 2,
       "version_minor": 0
      },
      "text/plain": [
       "A Jupyter Widget"
      ]
     },
     "metadata": {},
     "output_type": "display_data"
    },
    {
     "name": "stdout",
     "output_type": "stream",
     "text": [
      "[ 0.       0.22714  0.21479  0.93701]                        \n",
      "[ 1.       0.18911  0.20874  0.93603]                        \n",
      "\n"
     ]
    }
   ],
   "source": [
    "learn.fit(1e-2, 1, cycle_len=2)"
   ]
  },
  {
   "cell_type": "code",
   "execution_count": 28,
   "metadata": {},
   "outputs": [],
   "source": [
    "learn.save('350_ir2_pre')"
   ]
  },
  {
   "cell_type": "code",
   "execution_count": 29,
   "metadata": {},
   "outputs": [
    {
     "name": "stdout",
     "output_type": "stream",
     "text": [
      "                                                 \r"
     ]
    }
   ],
   "source": [
    "log_preds, y = learn.TTA(is_test=True)\n",
    "probs_ir2 = np.exp(log_preds)\n",
    "#accuracy(log_preds, y), metrics.log_loss(y, probs)"
   ]
  },
  {
   "cell_type": "code",
   "execution_count": 30,
   "metadata": {},
   "outputs": [],
   "source": [
    "def save_array(fname, arr): c=bcolz.carray(arr, rootdir=fname, mode='w'); c.flush()"
   ]
  },
  {
   "cell_type": "code",
   "execution_count": 31,
   "metadata": {},
   "outputs": [],
   "source": [
    "save_array('probs_ir2.bc', probs_ir2)"
   ]
  },
  {
   "cell_type": "code",
   "execution_count": 32,
   "metadata": {},
   "outputs": [],
   "source": [
    "learn.save('350_ir2_pre')"
   ]
  },
  {
   "cell_type": "markdown",
   "metadata": {
    "heading_collapsed": true
   },
   "source": [
    "## Use whole dataset now"
   ]
  },
  {
   "cell_type": "code",
   "execution_count": 31,
   "metadata": {
    "hidden": true
   },
   "outputs": [],
   "source": [
    "learn.load('299_pre')"
   ]
  },
  {
   "cell_type": "code",
   "execution_count": 32,
   "metadata": {
    "hidden": true
   },
   "outputs": [],
   "source": [
    "def get_data_whole(sz, bs):\n",
    "    tfms = tfms_from_model(arch, sz, aug_tfms=transforms_side_on, max_zoom=1.1)\n",
    "    data = ImageClassifierData.from_csv(PATH, 'train', f'{PATH}labels.csv', test_name='test',\n",
    "                                        val_idxs=[0], suffix='.jpg', tfms=tfms, bs=bs)\n",
    "    return data if sz>300 else data.resize(340, 'tmp')"
   ]
  },
  {
   "cell_type": "code",
   "execution_count": 33,
   "metadata": {
    "hidden": true
   },
   "outputs": [],
   "source": [
    "def load_array(fname): return bcolz.open(fname)[:]"
   ]
  },
  {
   "cell_type": "code",
   "execution_count": 34,
   "metadata": {
    "hidden": true
   },
   "outputs": [
    {
     "data": {
      "application/vnd.jupyter.widget-view+json": {
       "model_id": "78d08d3a9b1b43df9b82371c508b5c98",
       "version_major": 2,
       "version_minor": 0
      },
      "text/plain": [
       "A Jupyter Widget"
      ]
     },
     "metadata": {},
     "output_type": "display_data"
    },
    {
     "name": "stdout",
     "output_type": "stream",
     "text": [
      "\n"
     ]
    }
   ],
   "source": [
    "data = get_data_whole(sz, bs)"
   ]
  },
  {
   "cell_type": "code",
   "execution_count": 35,
   "metadata": {
    "hidden": true
   },
   "outputs": [
    {
     "name": "stdout",
     "output_type": "stream",
     "text": [
      "100%|██████████| 177/177 [04:45<00:00,  1.61s/it]\n",
      "100%|██████████| 1/1 [00:00<00:00,  2.82it/s]\n"
     ]
    }
   ],
   "source": [
    "learn = ConvLearner.pretrained(arch, data, precompute=True)\n",
    "learn.freeze()"
   ]
  },
  {
   "cell_type": "code",
   "execution_count": 36,
   "metadata": {
    "hidden": true
   },
   "outputs": [
    {
     "data": {
      "application/vnd.jupyter.widget-view+json": {
       "model_id": "565892c0f627474ca6eb664859caf822",
       "version_major": 2,
       "version_minor": 0
      },
      "text/plain": [
       "A Jupyter Widget"
      ]
     },
     "metadata": {},
     "output_type": "display_data"
    },
    {
     "name": "stdout",
     "output_type": "stream",
     "text": [
      "[ 0.       0.75786  0.01884  1.     ]                         \n",
      "[ 1.       0.38308  0.00202  1.     ]                         \n",
      "[ 2.       0.27529  0.00073  1.     ]                         \n",
      "[ 3.       0.22052  0.00052  1.     ]                         \n",
      "[ 4.       0.19112  0.00022  1.     ]                         \n",
      "\n"
     ]
    }
   ],
   "source": [
    "learn.fit(1e-2, 5)"
   ]
  },
  {
   "cell_type": "code",
   "execution_count": 37,
   "metadata": {
    "hidden": true
   },
   "outputs": [],
   "source": [
    "learn = ConvLearner.pretrained(arch, data, precompute=True, ps=0.5)"
   ]
  },
  {
   "cell_type": "code",
   "execution_count": 38,
   "metadata": {
    "hidden": true
   },
   "outputs": [
    {
     "data": {
      "application/vnd.jupyter.widget-view+json": {
       "model_id": "a6c51542d24740d3a827601141e91c23",
       "version_major": 2,
       "version_minor": 0
      },
      "text/plain": [
       "A Jupyter Widget"
      ]
     },
     "metadata": {},
     "output_type": "display_data"
    },
    {
     "name": "stdout",
     "output_type": "stream",
     "text": [
      "[ 0.       0.94042  0.00524  1.     ]                         \n",
      "[ 1.       0.48962  0.00265  1.     ]                         \n",
      "\n"
     ]
    }
   ],
   "source": [
    "learn.fit(1e-2, 2)"
   ]
  },
  {
   "cell_type": "code",
   "execution_count": 39,
   "metadata": {
    "hidden": true
   },
   "outputs": [],
   "source": [
    "learn.precompute = False\n",
    "learn.bn_freeze = True"
   ]
  },
  {
   "cell_type": "code",
   "execution_count": null,
   "metadata": {
    "hidden": true
   },
   "outputs": [
    {
     "data": {
      "application/vnd.jupyter.widget-view+json": {
       "model_id": "6195be6998564a28b74ae3b2a9185068",
       "version_major": 2,
       "version_minor": 0
      },
      "text/plain": [
       "A Jupyter Widget"
      ]
     },
     "metadata": {},
     "output_type": "display_data"
    },
    {
     "name": "stdout",
     "output_type": "stream",
     "text": [
      "[ 0.       0.44712  0.00127  1.     ]                        \n",
      "[ 1.       0.39743  0.00121  1.     ]                        \n",
      "[ 2.       0.34848  0.00075  1.     ]                        \n",
      "[ 3.       0.35622  0.00137  1.     ]                        \n",
      "[ 4.       0.31755  0.00057  1.     ]                        \n",
      "[ 5.       0.28701  0.00074  1.     ]                        \n",
      " 76%|███████▌  | 134/177 [03:41<01:10,  1.65s/it, loss=0.29] "
     ]
    }
   ],
   "source": [
    "learn.fit(1e-2, 3, cycle_len=1, cycle_mult=2)"
   ]
  },
  {
   "cell_type": "code",
   "execution_count": null,
   "metadata": {
    "hidden": true
   },
   "outputs": [],
   "source": [
    "learn.set_data(get_data_whole(299, bs))\n",
    "learn.freeze()"
   ]
  },
  {
   "cell_type": "code",
   "execution_count": null,
   "metadata": {
    "hidden": true
   },
   "outputs": [],
   "source": [
    "learn.fit(1e-2, 3, cycle_len=1, cycle_mult=2)"
   ]
  },
  {
   "cell_type": "code",
   "execution_count": null,
   "metadata": {
    "hidden": true
   },
   "outputs": [],
   "source": [
    "log_preds, y = learn.TTA(is_test=True)\n",
    "probs_resnx101_64_full = np.exp(log_preds)\n",
    "#accuracy(log_preds, y), metrics.log_loss(y, probs)"
   ]
  },
  {
   "cell_type": "code",
   "execution_count": null,
   "metadata": {
    "hidden": true
   },
   "outputs": [],
   "source": [
    "save_array('probs_resnx101_64_full.bc', probs_resnx101_64_full)"
   ]
  },
  {
   "cell_type": "code",
   "execution_count": null,
   "metadata": {
    "hidden": true
   },
   "outputs": [],
   "source": [
    "learn.save('299_full')"
   ]
  },
  {
   "cell_type": "markdown",
   "metadata": {
    "heading_collapsed": true
   },
   "source": [
    "## Try ensembling\n",
    "### Use another arch first"
   ]
  },
  {
   "cell_type": "code",
   "execution_count": null,
   "metadata": {
    "hidden": true
   },
   "outputs": [],
   "source": []
  },
  {
   "cell_type": "code",
   "execution_count": null,
   "metadata": {
    "hidden": true
   },
   "outputs": [],
   "source": []
  },
  {
   "cell_type": "code",
   "execution_count": null,
   "metadata": {
    "hidden": true
   },
   "outputs": [],
   "source": []
  },
  {
   "cell_type": "code",
   "execution_count": null,
   "metadata": {
    "hidden": true
   },
   "outputs": [],
   "source": []
  },
  {
   "cell_type": "markdown",
   "metadata": {},
   "source": [
    "## Save to file for submission"
   ]
  },
  {
   "cell_type": "code",
   "execution_count": 33,
   "metadata": {},
   "outputs": [],
   "source": [
    "df = pd.DataFrame(probs_ir2)\n",
    "df.columns = data.classes\n",
    "df.insert(0, 'id', [o[5:-4] for o in data.test_ds.fnames])"
   ]
  },
  {
   "cell_type": "code",
   "execution_count": 34,
   "metadata": {},
   "outputs": [
    {
     "data": {
      "text/html": [
       "<div>\n",
       "<style scoped>\n",
       "    .dataframe tbody tr th:only-of-type {\n",
       "        vertical-align: middle;\n",
       "    }\n",
       "\n",
       "    .dataframe tbody tr th {\n",
       "        vertical-align: top;\n",
       "    }\n",
       "\n",
       "    .dataframe thead th {\n",
       "        text-align: right;\n",
       "    }\n",
       "</style>\n",
       "<table border=\"1\" class=\"dataframe\">\n",
       "  <thead>\n",
       "    <tr style=\"text-align: right;\">\n",
       "      <th></th>\n",
       "      <th>id</th>\n",
       "      <th>affenpinscher</th>\n",
       "      <th>afghan_hound</th>\n",
       "      <th>african_hunting_dog</th>\n",
       "      <th>airedale</th>\n",
       "      <th>american_staffordshire_terrier</th>\n",
       "      <th>appenzeller</th>\n",
       "      <th>australian_terrier</th>\n",
       "      <th>basenji</th>\n",
       "      <th>basset</th>\n",
       "      <th>...</th>\n",
       "      <th>toy_poodle</th>\n",
       "      <th>toy_terrier</th>\n",
       "      <th>vizsla</th>\n",
       "      <th>walker_hound</th>\n",
       "      <th>weimaraner</th>\n",
       "      <th>welsh_springer_spaniel</th>\n",
       "      <th>west_highland_white_terrier</th>\n",
       "      <th>whippet</th>\n",
       "      <th>wire-haired_fox_terrier</th>\n",
       "      <th>yorkshire_terrier</th>\n",
       "    </tr>\n",
       "  </thead>\n",
       "  <tbody>\n",
       "    <tr>\n",
       "      <th>0</th>\n",
       "      <td>fd1a7be32f10493735555e62913c0841</td>\n",
       "      <td>2.101389e-06</td>\n",
       "      <td>7.957380e-07</td>\n",
       "      <td>9.901231e-07</td>\n",
       "      <td>7.696650e-07</td>\n",
       "      <td>4.725467e-07</td>\n",
       "      <td>3.137218e-07</td>\n",
       "      <td>1.815584e-07</td>\n",
       "      <td>1.709327e-07</td>\n",
       "      <td>4.579634e-07</td>\n",
       "      <td>...</td>\n",
       "      <td>2.395443e-06</td>\n",
       "      <td>2.345402e-06</td>\n",
       "      <td>8.872038e-07</td>\n",
       "      <td>2.088811e-06</td>\n",
       "      <td>6.659964e-08</td>\n",
       "      <td>3.753928e-07</td>\n",
       "      <td>3.749388e-07</td>\n",
       "      <td>1.273274e-06</td>\n",
       "      <td>4.798866e-07</td>\n",
       "      <td>3.512119e-08</td>\n",
       "    </tr>\n",
       "    <tr>\n",
       "      <th>1</th>\n",
       "      <td>5273d42f02b4715cb93845205995ef64</td>\n",
       "      <td>1.615717e-05</td>\n",
       "      <td>1.668898e-05</td>\n",
       "      <td>2.292900e-06</td>\n",
       "      <td>3.470073e-06</td>\n",
       "      <td>1.326146e-06</td>\n",
       "      <td>9.195463e-07</td>\n",
       "      <td>6.441616e-08</td>\n",
       "      <td>8.183958e-07</td>\n",
       "      <td>1.369859e-06</td>\n",
       "      <td>...</td>\n",
       "      <td>2.356505e-06</td>\n",
       "      <td>5.158620e-07</td>\n",
       "      <td>1.096716e-06</td>\n",
       "      <td>6.168519e-06</td>\n",
       "      <td>5.028619e-06</td>\n",
       "      <td>3.254074e-06</td>\n",
       "      <td>1.100742e-06</td>\n",
       "      <td>2.905195e-06</td>\n",
       "      <td>8.317512e-06</td>\n",
       "      <td>5.890093e-07</td>\n",
       "    </tr>\n",
       "    <tr>\n",
       "      <th>2</th>\n",
       "      <td>442057a3142f4d75a1023db363e2fb54</td>\n",
       "      <td>7.130004e-07</td>\n",
       "      <td>8.126507e-07</td>\n",
       "      <td>2.995882e-07</td>\n",
       "      <td>1.080347e-06</td>\n",
       "      <td>3.360327e-07</td>\n",
       "      <td>8.103186e-06</td>\n",
       "      <td>6.558137e-08</td>\n",
       "      <td>9.681415e-08</td>\n",
       "      <td>7.517328e-06</td>\n",
       "      <td>...</td>\n",
       "      <td>2.840640e-07</td>\n",
       "      <td>7.324162e-07</td>\n",
       "      <td>4.261292e-06</td>\n",
       "      <td>5.974223e-05</td>\n",
       "      <td>9.524963e-07</td>\n",
       "      <td>1.255658e-07</td>\n",
       "      <td>1.527046e-06</td>\n",
       "      <td>1.828355e-07</td>\n",
       "      <td>7.973781e-07</td>\n",
       "      <td>5.305102e-07</td>\n",
       "    </tr>\n",
       "    <tr>\n",
       "      <th>3</th>\n",
       "      <td>fb03302b030afd122e0f4936c158f6c1</td>\n",
       "      <td>6.470754e-05</td>\n",
       "      <td>5.273749e-06</td>\n",
       "      <td>7.179740e-07</td>\n",
       "      <td>6.052573e-06</td>\n",
       "      <td>2.462417e-05</td>\n",
       "      <td>4.126265e-06</td>\n",
       "      <td>2.563426e-05</td>\n",
       "      <td>1.258198e-05</td>\n",
       "      <td>2.768924e-05</td>\n",
       "      <td>...</td>\n",
       "      <td>7.947544e-05</td>\n",
       "      <td>1.446267e-05</td>\n",
       "      <td>7.264930e-06</td>\n",
       "      <td>1.506572e-05</td>\n",
       "      <td>1.073374e-05</td>\n",
       "      <td>2.775627e-06</td>\n",
       "      <td>9.247089e-06</td>\n",
       "      <td>2.588709e-06</td>\n",
       "      <td>6.563337e-06</td>\n",
       "      <td>2.558486e-04</td>\n",
       "    </tr>\n",
       "    <tr>\n",
       "      <th>4</th>\n",
       "      <td>511ca6e3539192aa5c8747bb697e0525</td>\n",
       "      <td>8.379841e-07</td>\n",
       "      <td>1.200375e-06</td>\n",
       "      <td>5.936035e-07</td>\n",
       "      <td>7.524296e-07</td>\n",
       "      <td>2.809074e-06</td>\n",
       "      <td>4.269319e-07</td>\n",
       "      <td>1.336144e-05</td>\n",
       "      <td>2.859274e-07</td>\n",
       "      <td>1.571820e-06</td>\n",
       "      <td>...</td>\n",
       "      <td>4.072642e-06</td>\n",
       "      <td>9.853200e-07</td>\n",
       "      <td>2.454565e-07</td>\n",
       "      <td>2.628426e-07</td>\n",
       "      <td>1.317447e-06</td>\n",
       "      <td>4.162125e-07</td>\n",
       "      <td>2.284507e-05</td>\n",
       "      <td>4.138440e-07</td>\n",
       "      <td>1.315784e-05</td>\n",
       "      <td>9.399819e-07</td>\n",
       "    </tr>\n",
       "  </tbody>\n",
       "</table>\n",
       "<p>5 rows × 121 columns</p>\n",
       "</div>"
      ],
      "text/plain": [
       "                                 id  affenpinscher  afghan_hound  \\\n",
       "0  fd1a7be32f10493735555e62913c0841   2.101389e-06  7.957380e-07   \n",
       "1  5273d42f02b4715cb93845205995ef64   1.615717e-05  1.668898e-05   \n",
       "2  442057a3142f4d75a1023db363e2fb54   7.130004e-07  8.126507e-07   \n",
       "3  fb03302b030afd122e0f4936c158f6c1   6.470754e-05  5.273749e-06   \n",
       "4  511ca6e3539192aa5c8747bb697e0525   8.379841e-07  1.200375e-06   \n",
       "\n",
       "   african_hunting_dog      airedale  american_staffordshire_terrier  \\\n",
       "0         9.901231e-07  7.696650e-07                    4.725467e-07   \n",
       "1         2.292900e-06  3.470073e-06                    1.326146e-06   \n",
       "2         2.995882e-07  1.080347e-06                    3.360327e-07   \n",
       "3         7.179740e-07  6.052573e-06                    2.462417e-05   \n",
       "4         5.936035e-07  7.524296e-07                    2.809074e-06   \n",
       "\n",
       "    appenzeller  australian_terrier       basenji        basset  \\\n",
       "0  3.137218e-07        1.815584e-07  1.709327e-07  4.579634e-07   \n",
       "1  9.195463e-07        6.441616e-08  8.183958e-07  1.369859e-06   \n",
       "2  8.103186e-06        6.558137e-08  9.681415e-08  7.517328e-06   \n",
       "3  4.126265e-06        2.563426e-05  1.258198e-05  2.768924e-05   \n",
       "4  4.269319e-07        1.336144e-05  2.859274e-07  1.571820e-06   \n",
       "\n",
       "         ...            toy_poodle   toy_terrier        vizsla  walker_hound  \\\n",
       "0        ...          2.395443e-06  2.345402e-06  8.872038e-07  2.088811e-06   \n",
       "1        ...          2.356505e-06  5.158620e-07  1.096716e-06  6.168519e-06   \n",
       "2        ...          2.840640e-07  7.324162e-07  4.261292e-06  5.974223e-05   \n",
       "3        ...          7.947544e-05  1.446267e-05  7.264930e-06  1.506572e-05   \n",
       "4        ...          4.072642e-06  9.853200e-07  2.454565e-07  2.628426e-07   \n",
       "\n",
       "     weimaraner  welsh_springer_spaniel  west_highland_white_terrier  \\\n",
       "0  6.659964e-08            3.753928e-07                 3.749388e-07   \n",
       "1  5.028619e-06            3.254074e-06                 1.100742e-06   \n",
       "2  9.524963e-07            1.255658e-07                 1.527046e-06   \n",
       "3  1.073374e-05            2.775627e-06                 9.247089e-06   \n",
       "4  1.317447e-06            4.162125e-07                 2.284507e-05   \n",
       "\n",
       "        whippet  wire-haired_fox_terrier  yorkshire_terrier  \n",
       "0  1.273274e-06             4.798866e-07       3.512119e-08  \n",
       "1  2.905195e-06             8.317512e-06       5.890093e-07  \n",
       "2  1.828355e-07             7.973781e-07       5.305102e-07  \n",
       "3  2.588709e-06             6.563337e-06       2.558486e-04  \n",
       "4  4.138440e-07             1.315784e-05       9.399819e-07  \n",
       "\n",
       "[5 rows x 121 columns]"
      ]
     },
     "execution_count": 34,
     "metadata": {},
     "output_type": "execute_result"
    }
   ],
   "source": [
    "df.head()"
   ]
  },
  {
   "cell_type": "code",
   "execution_count": 35,
   "metadata": {},
   "outputs": [],
   "source": [
    "SUBM = f'{PATH}results_2/'\n",
    "os.makedirs(SUBM, exist_ok=True)\n",
    "df.to_csv(f'{SUBM}submission11.csv', index=False)\n",
    "#df.to_csv(f'{SUBM}subm.gz', compression='gzip', index=False)"
   ]
  },
  {
   "cell_type": "markdown",
   "metadata": {},
   "source": [
    "## Individual prediction"
   ]
  },
  {
   "cell_type": "code",
   "execution_count": null,
   "metadata": {},
   "outputs": [],
   "source": [
    "fn = data.val_ds.fnames[0]"
   ]
  },
  {
   "cell_type": "code",
   "execution_count": null,
   "metadata": {},
   "outputs": [],
   "source": [
    "fn"
   ]
  },
  {
   "cell_type": "code",
   "execution_count": null,
   "metadata": {},
   "outputs": [],
   "source": [
    "Image.open(PATH+fn).resize((150, 150))"
   ]
  },
  {
   "cell_type": "code",
   "execution_count": null,
   "metadata": {},
   "outputs": [],
   "source": [
    "trn_tfms, val_tfms = tfms_from_model(arch, sz)"
   ]
  },
  {
   "cell_type": "code",
   "execution_count": null,
   "metadata": {},
   "outputs": [],
   "source": [
    "ds = FilesIndexArrayDataset([fn], np.array([0]), val_tfms, PATH)\n",
    "dl = DataLoader(ds)\n",
    "preds = learn.predict_dl(dl)\n",
    "np.argmax(preds)"
   ]
  },
  {
   "cell_type": "code",
   "execution_count": null,
   "metadata": {},
   "outputs": [],
   "source": [
    "im = trn_tfms(Image.open(PATH+fn))\n",
    "preds = to_np(learn.model(V(T(im[None]).cude())))\n",
    "np.argmax(preds)"
   ]
  },
  {
   "cell_type": "code",
   "execution_count": null,
   "metadata": {},
   "outputs": [],
   "source": [
    "trn_tfms, val_tfms = tfms_from_model(arch, sz)"
   ]
  },
  {
   "cell_type": "code",
   "execution_count": null,
   "metadata": {},
   "outputs": [],
   "source": [
    "im = trn_tfms(Image.open(PATH+fn))\n",
    "preds = learn.predict_array(im[None])\n",
    "np.argmax(preds)"
   ]
  },
  {
   "cell_type": "markdown",
   "metadata": {},
   "source": [
    "## Confusion matrix"
   ]
  },
  {
   "cell_type": "code",
   "execution_count": null,
   "metadata": {},
   "outputs": [],
   "source": [
    "preds = np.argmax(log_preds, axis=1)\n",
    "probs = np.exp(log_preds[:,1])\n",
    "\n",
    "from sklearn.metrics import confusion_matrix\n",
    "cm = confusion_matrix(y, preds)"
   ]
  },
  {
   "cell_type": "code",
   "execution_count": null,
   "metadata": {},
   "outputs": [],
   "source": [
    "plot_confusion_matrix(cm, data.classes)"
   ]
  }
 ],
 "metadata": {
  "kernelspec": {
   "display_name": "Python 3",
   "language": "python",
   "name": "python3"
  },
  "language_info": {
   "codemirror_mode": {
    "name": "ipython",
    "version": 3
   },
   "file_extension": ".py",
   "mimetype": "text/x-python",
   "name": "python",
   "nbconvert_exporter": "python",
   "pygments_lexer": "ipython3",
   "version": "3.6.3"
  }
 },
 "nbformat": 4,
 "nbformat_minor": 2
}
