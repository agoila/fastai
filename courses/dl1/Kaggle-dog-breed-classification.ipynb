{
 "cells": [
  {
   "cell_type": "markdown",
   "metadata": {},
   "source": [
    "# Dog Breed"
   ]
  },
  {
   "cell_type": "code",
   "execution_count": 1,
   "metadata": {},
   "outputs": [],
   "source": [
    "# Put these at the top of every notebook, to get automatic reloading and inline plotting\n",
    "%reload_ext autoreload\n",
    "%autoreload 2\n",
    "%matplotlib inline"
   ]
  },
  {
   "cell_type": "code",
   "execution_count": 2,
   "metadata": {},
   "outputs": [],
   "source": [
    "# This file contains all the main external libs we'll use\n",
    "from fastai.imports import *\n",
    "\n",
    "from fastai.transforms import *\n",
    "from fastai.conv_learner import *\n",
    "from fastai.model import *\n",
    "from fastai.dataset import *\n",
    "from fastai.sgdr import *\n",
    "from fastai.plots import *"
   ]
  },
  {
   "cell_type": "code",
   "execution_count": 3,
   "metadata": {},
   "outputs": [],
   "source": [
    "PATH = \"data/dogbreed/\"\n",
    "sz = 299\n",
    "arch = resnext101_64\n",
    "bs = 58"
   ]
  },
  {
   "cell_type": "code",
   "execution_count": 4,
   "metadata": {},
   "outputs": [],
   "source": [
    "label_csv = f'{PATH}labels.csv'\n",
    "n = len(list(open(label_csv))) - 1\n",
    "val_idxs = get_cv_idxs(n)"
   ]
  },
  {
   "cell_type": "markdown",
   "metadata": {},
   "source": [
    "## Initial exploration"
   ]
  },
  {
   "cell_type": "code",
   "execution_count": null,
   "metadata": {},
   "outputs": [],
   "source": [
    "!ls {PATH}"
   ]
  },
  {
   "cell_type": "code",
   "execution_count": null,
   "metadata": {},
   "outputs": [],
   "source": [
    "files = !ls {PATH}test/ | head\n",
    "files"
   ]
  },
  {
   "cell_type": "code",
   "execution_count": null,
   "metadata": {},
   "outputs": [],
   "source": [
    "label_df = pd.read_csv(label_csv)"
   ]
  },
  {
   "cell_type": "code",
   "execution_count": null,
   "metadata": {},
   "outputs": [],
   "source": [
    "label_df.head()"
   ]
  },
  {
   "cell_type": "code",
   "execution_count": null,
   "metadata": {},
   "outputs": [],
   "source": [
    "label_df.pivot_table(index='breed', aggfunc=len).sort_values('id', ascending=False)"
   ]
  },
  {
   "cell_type": "code",
   "execution_count": null,
   "metadata": {},
   "outputs": [],
   "source": [
    "tfms = tfms_from_model(arch, sz, aug_tfms=transforms_side_on, max_zoom=1.1)\n",
    "data = ImageClassifierData.from_csv(PATH, 'train', f'{PATH}labels.csv', tfms=tfms, val_idxs=val_idxs, test_name='test',\n",
    "                                   suffix='.jpg', bs=bs)"
   ]
  },
  {
   "cell_type": "code",
   "execution_count": null,
   "metadata": {},
   "outputs": [],
   "source": [
    "fn = PATH+data.trn_ds.fnames[0]; fn"
   ]
  },
  {
   "cell_type": "code",
   "execution_count": null,
   "metadata": {},
   "outputs": [],
   "source": [
    "img = PIL.Image.open(fn); img"
   ]
  },
  {
   "cell_type": "code",
   "execution_count": null,
   "metadata": {},
   "outputs": [],
   "source": [
    "img.size"
   ]
  },
  {
   "cell_type": "code",
   "execution_count": null,
   "metadata": {},
   "outputs": [],
   "source": [
    "size_d = {k: PIL.Image.open(PATH+k).size for k in data.trn_ds.fnames}"
   ]
  },
  {
   "cell_type": "code",
   "execution_count": null,
   "metadata": {},
   "outputs": [],
   "source": [
    "row_sz, col_sz = list(zip(*size_d.values()))"
   ]
  },
  {
   "cell_type": "code",
   "execution_count": null,
   "metadata": {},
   "outputs": [],
   "source": [
    "row_sz = np.array(row_sz); col_sz = np.array(col_sz)"
   ]
  },
  {
   "cell_type": "code",
   "execution_count": null,
   "metadata": {},
   "outputs": [],
   "source": [
    "row_sz[:5]"
   ]
  },
  {
   "cell_type": "code",
   "execution_count": null,
   "metadata": {},
   "outputs": [],
   "source": [
    "plt.hist(row_sz);"
   ]
  },
  {
   "cell_type": "code",
   "execution_count": null,
   "metadata": {},
   "outputs": [],
   "source": [
    "plt.hist(row_sz[row_sz<1000])"
   ]
  },
  {
   "cell_type": "code",
   "execution_count": null,
   "metadata": {},
   "outputs": [],
   "source": [
    "plt.hist(col_sz)"
   ]
  },
  {
   "cell_type": "code",
   "execution_count": null,
   "metadata": {},
   "outputs": [],
   "source": [
    "plt.hist(col_sz[col_sz<1000])"
   ]
  },
  {
   "cell_type": "code",
   "execution_count": null,
   "metadata": {},
   "outputs": [],
   "source": [
    "len(data.trn_ds), len(data.test_ds)"
   ]
  },
  {
   "cell_type": "code",
   "execution_count": null,
   "metadata": {},
   "outputs": [],
   "source": [
    "len(data.classes), data.classes[:5]"
   ]
  },
  {
   "cell_type": "markdown",
   "metadata": {},
   "source": [
    "## Initial Model"
   ]
  },
  {
   "cell_type": "code",
   "execution_count": 5,
   "metadata": {},
   "outputs": [],
   "source": [
    "def get_data(sz, bs):\n",
    "    \n",
    "    tfms = tfms_from_model(arch, sz, aug_tfms=transforms_side_on, max_zoom=1.1)\n",
    "    data = ImageClassifierData.from_csv(PATH, 'train', f'{PATH}labels.csv', tfms=tfms, val_idxs=val_idxs, test_name='test',\n",
    "                                        suffix='.jpg', bs=bs, num_workers=4)\n",
    "    return data if sz > 300 else data.resize(340, 'tmp')"
   ]
  },
  {
   "cell_type": "code",
   "execution_count": 6,
   "metadata": {},
   "outputs": [
    {
     "data": {
      "application/vnd.jupyter.widget-view+json": {
       "model_id": "a077e08f6de640cc8e63e3a1582d4f74",
       "version_major": 2,
       "version_minor": 0
      },
      "text/plain": [
       "A Jupyter Widget"
      ]
     },
     "metadata": {},
     "output_type": "display_data"
    },
    {
     "name": "stdout",
     "output_type": "stream",
     "text": [
      "                                                      \n"
     ]
    }
   ],
   "source": [
    "data = get_data(sz, bs)"
   ]
  },
  {
   "cell_type": "code",
   "execution_count": 7,
   "metadata": {},
   "outputs": [
    {
     "name": "stdout",
     "output_type": "stream",
     "text": [
      "100%|██████████| 141/141 [08:10<00:00,  3.48s/it]\n",
      "100%|██████████| 36/36 [02:03<00:00,  3.43s/it]\n",
      "100%|██████████| 179/179 [10:21<00:00,  3.47s/it]\n"
     ]
    },
    {
     "data": {
      "application/vnd.jupyter.widget-view+json": {
       "model_id": "d15512c619b24be291ee1fcf7638441e",
       "version_major": 2,
       "version_minor": 0
      },
      "text/plain": [
       "A Jupyter Widget"
      ]
     },
     "metadata": {},
     "output_type": "display_data"
    },
    {
     "name": "stdout",
     "output_type": "stream",
     "text": [
      "[ 0.       0.68984  0.3556   0.89265]                         \n",
      "\n"
     ]
    }
   ],
   "source": [
    "learn = ConvLearner.pretrained(arch, data, precompute=True)\n",
    "learn.fit(1e-1, 1)"
   ]
  },
  {
   "cell_type": "markdown",
   "metadata": {},
   "source": [
    "## Augment"
   ]
  },
  {
   "cell_type": "code",
   "execution_count": 8,
   "metadata": {},
   "outputs": [],
   "source": [
    "from sklearn import metrics"
   ]
  },
  {
   "cell_type": "code",
   "execution_count": 9,
   "metadata": {},
   "outputs": [],
   "source": [
    "learn.precompute = False"
   ]
  },
  {
   "cell_type": "code",
   "execution_count": 10,
   "metadata": {},
   "outputs": [
    {
     "data": {
      "application/vnd.jupyter.widget-view+json": {
       "model_id": "6306b56e7b444cf9b45671b9a278f8ec",
       "version_major": 2,
       "version_minor": 0
      },
      "text/plain": [
       "A Jupyter Widget"
      ]
     },
     "metadata": {},
     "output_type": "display_data"
    },
    {
     "name": "stdout",
     "output_type": "stream",
     "text": [
      "[ 0.       0.37548  0.25663  0.91708]                        \n",
      "[ 1.       0.29412  0.24158  0.92234]                        \n",
      "[ 2.       0.26259  0.23588  0.92234]                        \n",
      "\n"
     ]
    }
   ],
   "source": [
    "learn.fit(1e-1, 3, cycle_len=1)"
   ]
  },
  {
   "cell_type": "code",
   "execution_count": 11,
   "metadata": {},
   "outputs": [],
   "source": [
    "learn.save('299_pre')"
   ]
  },
  {
   "cell_type": "code",
   "execution_count": 12,
   "metadata": {},
   "outputs": [],
   "source": [
    "learn.load('299_pre')"
   ]
  },
  {
   "cell_type": "markdown",
   "metadata": {},
   "source": [
    "## Increase Size"
   ]
  },
  {
   "cell_type": "code",
   "execution_count": 13,
   "metadata": {},
   "outputs": [
    {
     "data": {
      "application/vnd.jupyter.widget-view+json": {
       "model_id": "34654b8a13134b0a8ade54bf46bf04a2",
       "version_major": 2,
       "version_minor": 0
      },
      "text/plain": [
       "A Jupyter Widget"
      ]
     },
     "metadata": {},
     "output_type": "display_data"
    },
    {
     "name": "stdout",
     "output_type": "stream",
     "text": [
      "[ 0.       0.19203  0.2324   0.91995]                        \n",
      "[ 1.       0.18704  0.2315   0.92426]                        \n",
      "[ 2.       0.19822  0.2291   0.92426]                        \n",
      "[ 3.       0.17883  0.22619  0.92666]                        \n",
      "[ 4.       0.16566  0.22521  0.92905]                        \n",
      "[ 5.       0.15209  0.22437  0.92761]                        \n",
      "[ 6.       0.15575  0.22509  0.92666]                        \n",
      "\n"
     ]
    }
   ],
   "source": [
    "learn.fit(1e-2, 3, cycle_len=1, cycle_mult = 2)"
   ]
  },
  {
   "cell_type": "code",
   "execution_count": 14,
   "metadata": {},
   "outputs": [],
   "source": [
    "log_preds, y = learn.TTA(is_test=True)\n",
    "probs = np.exp(log_preds)\n",
    "#accuracy(log_preds, y), metrics.log_loss(y, probs)"
   ]
  },
  {
   "cell_type": "code",
   "execution_count": null,
   "metadata": {},
   "outputs": [],
   "source": [
    "learn.save('350_mul_pre')"
   ]
  },
  {
   "cell_type": "code",
   "execution_count": null,
   "metadata": {},
   "outputs": [],
   "source": [
    "learn.load('350_mul_pre')"
   ]
  },
  {
   "cell_type": "code",
   "execution_count": null,
   "metadata": {},
   "outputs": [],
   "source": [
    "test_preds = learn.TTA(is_test=True)"
   ]
  },
  {
   "cell_type": "code",
   "execution_count": null,
   "metadata": {},
   "outputs": [],
   "source": [
    "test_preds = np.exp(test_preds[0])"
   ]
  },
  {
   "cell_type": "code",
   "execution_count": null,
   "metadata": {},
   "outputs": [],
   "source": [
    "test_preds.shape"
   ]
  },
  {
   "cell_type": "code",
   "execution_count": null,
   "metadata": {},
   "outputs": [],
   "source": [
    "data.test_dl.dataset.fnames"
   ]
  },
  {
   "cell_type": "code",
   "execution_count": null,
   "metadata": {},
   "outputs": [],
   "source": [
    "test_preds"
   ]
  },
  {
   "cell_type": "code",
   "execution_count": 16,
   "metadata": {},
   "outputs": [],
   "source": [
    "filenames = data.test_dl.dataset.fnames"
   ]
  },
  {
   "cell_type": "code",
   "execution_count": 17,
   "metadata": {},
   "outputs": [],
   "source": [
    "ids = [f[5:f.find('.')] for f in filenames]"
   ]
  },
  {
   "cell_type": "code",
   "execution_count": 18,
   "metadata": {},
   "outputs": [],
   "source": [
    "sub = pd.DataFrame(probs)"
   ]
  },
  {
   "cell_type": "code",
   "execution_count": 19,
   "metadata": {},
   "outputs": [],
   "source": [
    "col_names = data.classes"
   ]
  },
  {
   "cell_type": "code",
   "execution_count": 20,
   "metadata": {},
   "outputs": [],
   "source": [
    "sub.columns = col_names"
   ]
  },
  {
   "cell_type": "code",
   "execution_count": 21,
   "metadata": {},
   "outputs": [
    {
     "data": {
      "text/html": [
       "<div>\n",
       "<style scoped>\n",
       "    .dataframe tbody tr th:only-of-type {\n",
       "        vertical-align: middle;\n",
       "    }\n",
       "\n",
       "    .dataframe tbody tr th {\n",
       "        vertical-align: top;\n",
       "    }\n",
       "\n",
       "    .dataframe thead th {\n",
       "        text-align: right;\n",
       "    }\n",
       "</style>\n",
       "<table border=\"1\" class=\"dataframe\">\n",
       "  <thead>\n",
       "    <tr style=\"text-align: right;\">\n",
       "      <th></th>\n",
       "      <th>affenpinscher</th>\n",
       "      <th>afghan_hound</th>\n",
       "      <th>african_hunting_dog</th>\n",
       "      <th>airedale</th>\n",
       "      <th>american_staffordshire_terrier</th>\n",
       "      <th>appenzeller</th>\n",
       "      <th>australian_terrier</th>\n",
       "      <th>basenji</th>\n",
       "      <th>basset</th>\n",
       "      <th>beagle</th>\n",
       "      <th>...</th>\n",
       "      <th>toy_poodle</th>\n",
       "      <th>toy_terrier</th>\n",
       "      <th>vizsla</th>\n",
       "      <th>walker_hound</th>\n",
       "      <th>weimaraner</th>\n",
       "      <th>welsh_springer_spaniel</th>\n",
       "      <th>west_highland_white_terrier</th>\n",
       "      <th>whippet</th>\n",
       "      <th>wire-haired_fox_terrier</th>\n",
       "      <th>yorkshire_terrier</th>\n",
       "    </tr>\n",
       "  </thead>\n",
       "  <tbody>\n",
       "    <tr>\n",
       "      <th>0</th>\n",
       "      <td>1.076856e-06</td>\n",
       "      <td>1.770532e-05</td>\n",
       "      <td>1.577040e-07</td>\n",
       "      <td>1.527007e-07</td>\n",
       "      <td>5.188913e-08</td>\n",
       "      <td>7.051919e-09</td>\n",
       "      <td>2.899292e-07</td>\n",
       "      <td>1.526249e-08</td>\n",
       "      <td>5.084071e-07</td>\n",
       "      <td>1.820827e-08</td>\n",
       "      <td>...</td>\n",
       "      <td>5.435342e-06</td>\n",
       "      <td>5.876904e-08</td>\n",
       "      <td>2.211522e-06</td>\n",
       "      <td>1.903064e-07</td>\n",
       "      <td>2.657068e-06</td>\n",
       "      <td>2.208191e-07</td>\n",
       "      <td>3.391328e-08</td>\n",
       "      <td>1.582019e-08</td>\n",
       "      <td>9.787660e-07</td>\n",
       "      <td>4.953033e-08</td>\n",
       "    </tr>\n",
       "    <tr>\n",
       "      <th>1</th>\n",
       "      <td>3.398505e-07</td>\n",
       "      <td>4.159633e-05</td>\n",
       "      <td>3.518447e-05</td>\n",
       "      <td>4.332278e-05</td>\n",
       "      <td>8.798211e-07</td>\n",
       "      <td>3.091706e-06</td>\n",
       "      <td>3.554370e-06</td>\n",
       "      <td>3.181699e-06</td>\n",
       "      <td>1.269998e-06</td>\n",
       "      <td>1.116907e-07</td>\n",
       "      <td>...</td>\n",
       "      <td>7.978977e-07</td>\n",
       "      <td>1.539339e-07</td>\n",
       "      <td>1.368935e-04</td>\n",
       "      <td>1.065915e-06</td>\n",
       "      <td>2.484633e-05</td>\n",
       "      <td>8.071233e-06</td>\n",
       "      <td>7.182746e-07</td>\n",
       "      <td>8.119663e-06</td>\n",
       "      <td>1.522531e-06</td>\n",
       "      <td>4.520743e-06</td>\n",
       "    </tr>\n",
       "    <tr>\n",
       "      <th>2</th>\n",
       "      <td>6.183953e-09</td>\n",
       "      <td>2.204296e-07</td>\n",
       "      <td>2.466229e-09</td>\n",
       "      <td>1.298403e-08</td>\n",
       "      <td>1.460211e-09</td>\n",
       "      <td>4.016386e-08</td>\n",
       "      <td>1.433092e-08</td>\n",
       "      <td>2.789505e-10</td>\n",
       "      <td>5.498121e-08</td>\n",
       "      <td>5.700088e-09</td>\n",
       "      <td>...</td>\n",
       "      <td>3.937001e-10</td>\n",
       "      <td>7.607945e-09</td>\n",
       "      <td>5.112918e-07</td>\n",
       "      <td>5.672781e-06</td>\n",
       "      <td>2.902568e-07</td>\n",
       "      <td>3.018620e-10</td>\n",
       "      <td>7.369441e-10</td>\n",
       "      <td>1.057383e-09</td>\n",
       "      <td>9.008361e-10</td>\n",
       "      <td>5.073855e-09</td>\n",
       "    </tr>\n",
       "    <tr>\n",
       "      <th>3</th>\n",
       "      <td>3.380506e-05</td>\n",
       "      <td>2.100677e-08</td>\n",
       "      <td>9.318730e-09</td>\n",
       "      <td>3.573362e-10</td>\n",
       "      <td>6.293524e-08</td>\n",
       "      <td>1.707708e-08</td>\n",
       "      <td>1.603564e-08</td>\n",
       "      <td>1.577443e-11</td>\n",
       "      <td>5.565847e-09</td>\n",
       "      <td>9.391567e-09</td>\n",
       "      <td>...</td>\n",
       "      <td>6.600093e-06</td>\n",
       "      <td>7.950264e-09</td>\n",
       "      <td>3.314536e-09</td>\n",
       "      <td>3.442136e-10</td>\n",
       "      <td>2.303937e-08</td>\n",
       "      <td>9.960132e-10</td>\n",
       "      <td>3.836324e-08</td>\n",
       "      <td>5.376064e-09</td>\n",
       "      <td>8.138982e-10</td>\n",
       "      <td>1.635034e-04</td>\n",
       "    </tr>\n",
       "    <tr>\n",
       "      <th>4</th>\n",
       "      <td>2.999900e-08</td>\n",
       "      <td>5.193824e-08</td>\n",
       "      <td>1.293711e-07</td>\n",
       "      <td>2.427845e-09</td>\n",
       "      <td>5.202502e-07</td>\n",
       "      <td>1.309095e-08</td>\n",
       "      <td>4.561456e-06</td>\n",
       "      <td>6.847350e-09</td>\n",
       "      <td>7.176663e-08</td>\n",
       "      <td>8.921669e-06</td>\n",
       "      <td>...</td>\n",
       "      <td>1.156562e-04</td>\n",
       "      <td>6.306162e-07</td>\n",
       "      <td>1.363942e-07</td>\n",
       "      <td>2.827567e-09</td>\n",
       "      <td>4.520208e-08</td>\n",
       "      <td>2.673057e-08</td>\n",
       "      <td>8.350018e-06</td>\n",
       "      <td>1.010148e-08</td>\n",
       "      <td>1.833374e-06</td>\n",
       "      <td>5.900491e-06</td>\n",
       "    </tr>\n",
       "  </tbody>\n",
       "</table>\n",
       "<p>5 rows × 120 columns</p>\n",
       "</div>"
      ],
      "text/plain": [
       "   affenpinscher  afghan_hound  african_hunting_dog      airedale  \\\n",
       "0   1.076856e-06  1.770532e-05         1.577040e-07  1.527007e-07   \n",
       "1   3.398505e-07  4.159633e-05         3.518447e-05  4.332278e-05   \n",
       "2   6.183953e-09  2.204296e-07         2.466229e-09  1.298403e-08   \n",
       "3   3.380506e-05  2.100677e-08         9.318730e-09  3.573362e-10   \n",
       "4   2.999900e-08  5.193824e-08         1.293711e-07  2.427845e-09   \n",
       "\n",
       "   american_staffordshire_terrier   appenzeller  australian_terrier  \\\n",
       "0                    5.188913e-08  7.051919e-09        2.899292e-07   \n",
       "1                    8.798211e-07  3.091706e-06        3.554370e-06   \n",
       "2                    1.460211e-09  4.016386e-08        1.433092e-08   \n",
       "3                    6.293524e-08  1.707708e-08        1.603564e-08   \n",
       "4                    5.202502e-07  1.309095e-08        4.561456e-06   \n",
       "\n",
       "        basenji        basset        beagle        ...            toy_poodle  \\\n",
       "0  1.526249e-08  5.084071e-07  1.820827e-08        ...          5.435342e-06   \n",
       "1  3.181699e-06  1.269998e-06  1.116907e-07        ...          7.978977e-07   \n",
       "2  2.789505e-10  5.498121e-08  5.700088e-09        ...          3.937001e-10   \n",
       "3  1.577443e-11  5.565847e-09  9.391567e-09        ...          6.600093e-06   \n",
       "4  6.847350e-09  7.176663e-08  8.921669e-06        ...          1.156562e-04   \n",
       "\n",
       "    toy_terrier        vizsla  walker_hound    weimaraner  \\\n",
       "0  5.876904e-08  2.211522e-06  1.903064e-07  2.657068e-06   \n",
       "1  1.539339e-07  1.368935e-04  1.065915e-06  2.484633e-05   \n",
       "2  7.607945e-09  5.112918e-07  5.672781e-06  2.902568e-07   \n",
       "3  7.950264e-09  3.314536e-09  3.442136e-10  2.303937e-08   \n",
       "4  6.306162e-07  1.363942e-07  2.827567e-09  4.520208e-08   \n",
       "\n",
       "   welsh_springer_spaniel  west_highland_white_terrier       whippet  \\\n",
       "0            2.208191e-07                 3.391328e-08  1.582019e-08   \n",
       "1            8.071233e-06                 7.182746e-07  8.119663e-06   \n",
       "2            3.018620e-10                 7.369441e-10  1.057383e-09   \n",
       "3            9.960132e-10                 3.836324e-08  5.376064e-09   \n",
       "4            2.673057e-08                 8.350018e-06  1.010148e-08   \n",
       "\n",
       "   wire-haired_fox_terrier  yorkshire_terrier  \n",
       "0             9.787660e-07       4.953033e-08  \n",
       "1             1.522531e-06       4.520743e-06  \n",
       "2             9.008361e-10       5.073855e-09  \n",
       "3             8.138982e-10       1.635034e-04  \n",
       "4             1.833374e-06       5.900491e-06  \n",
       "\n",
       "[5 rows x 120 columns]"
      ]
     },
     "execution_count": 21,
     "metadata": {},
     "output_type": "execute_result"
    }
   ],
   "source": [
    "sub.head(5)"
   ]
  },
  {
   "cell_type": "code",
   "execution_count": 22,
   "metadata": {},
   "outputs": [],
   "source": [
    "sub.insert(0, 'id', ids)"
   ]
  },
  {
   "cell_type": "code",
   "execution_count": 23,
   "metadata": {},
   "outputs": [
    {
     "data": {
      "text/html": [
       "<div>\n",
       "<style scoped>\n",
       "    .dataframe tbody tr th:only-of-type {\n",
       "        vertical-align: middle;\n",
       "    }\n",
       "\n",
       "    .dataframe tbody tr th {\n",
       "        vertical-align: top;\n",
       "    }\n",
       "\n",
       "    .dataframe thead th {\n",
       "        text-align: right;\n",
       "    }\n",
       "</style>\n",
       "<table border=\"1\" class=\"dataframe\">\n",
       "  <thead>\n",
       "    <tr style=\"text-align: right;\">\n",
       "      <th></th>\n",
       "      <th>id</th>\n",
       "      <th>affenpinscher</th>\n",
       "      <th>afghan_hound</th>\n",
       "      <th>african_hunting_dog</th>\n",
       "      <th>airedale</th>\n",
       "      <th>american_staffordshire_terrier</th>\n",
       "      <th>appenzeller</th>\n",
       "      <th>australian_terrier</th>\n",
       "      <th>basenji</th>\n",
       "      <th>basset</th>\n",
       "      <th>...</th>\n",
       "      <th>toy_poodle</th>\n",
       "      <th>toy_terrier</th>\n",
       "      <th>vizsla</th>\n",
       "      <th>walker_hound</th>\n",
       "      <th>weimaraner</th>\n",
       "      <th>welsh_springer_spaniel</th>\n",
       "      <th>west_highland_white_terrier</th>\n",
       "      <th>whippet</th>\n",
       "      <th>wire-haired_fox_terrier</th>\n",
       "      <th>yorkshire_terrier</th>\n",
       "    </tr>\n",
       "  </thead>\n",
       "  <tbody>\n",
       "    <tr>\n",
       "      <th>10352</th>\n",
       "      <td>d7cbc532e819d760ab9e418654cef03f</td>\n",
       "      <td>6.268459e-07</td>\n",
       "      <td>9.758544e-07</td>\n",
       "      <td>8.270808e-07</td>\n",
       "      <td>3.403844e-07</td>\n",
       "      <td>5.588909e-06</td>\n",
       "      <td>3.975547e-07</td>\n",
       "      <td>4.376219e-04</td>\n",
       "      <td>5.747105e-04</td>\n",
       "      <td>1.752363e-06</td>\n",
       "      <td>...</td>\n",
       "      <td>1.705889e-07</td>\n",
       "      <td>1.105771e-06</td>\n",
       "      <td>4.209434e-08</td>\n",
       "      <td>8.324439e-08</td>\n",
       "      <td>9.245452e-09</td>\n",
       "      <td>3.936618e-06</td>\n",
       "      <td>3.413984e-05</td>\n",
       "      <td>4.316437e-07</td>\n",
       "      <td>2.027513e-06</td>\n",
       "      <td>1.264117e-06</td>\n",
       "    </tr>\n",
       "    <tr>\n",
       "      <th>10353</th>\n",
       "      <td>4250d92ca08a7c19bc0f6cb375a2b4ed</td>\n",
       "      <td>8.502207e-07</td>\n",
       "      <td>5.263835e-08</td>\n",
       "      <td>2.364226e-06</td>\n",
       "      <td>1.240829e-09</td>\n",
       "      <td>3.155688e-01</td>\n",
       "      <td>1.603755e-06</td>\n",
       "      <td>2.547312e-07</td>\n",
       "      <td>1.057684e-05</td>\n",
       "      <td>4.917315e-06</td>\n",
       "      <td>...</td>\n",
       "      <td>1.818661e-08</td>\n",
       "      <td>3.220006e-07</td>\n",
       "      <td>1.763911e-07</td>\n",
       "      <td>5.680766e-06</td>\n",
       "      <td>9.148500e-07</td>\n",
       "      <td>1.503754e-07</td>\n",
       "      <td>1.316762e-05</td>\n",
       "      <td>5.313472e-05</td>\n",
       "      <td>6.961033e-07</td>\n",
       "      <td>4.218220e-07</td>\n",
       "    </tr>\n",
       "    <tr>\n",
       "      <th>10354</th>\n",
       "      <td>a191db53dbd439ca46590a60906e4e55</td>\n",
       "      <td>7.006122e-04</td>\n",
       "      <td>2.893562e-04</td>\n",
       "      <td>4.290245e-05</td>\n",
       "      <td>3.522918e-04</td>\n",
       "      <td>9.328080e-06</td>\n",
       "      <td>2.136298e-05</td>\n",
       "      <td>6.412952e-03</td>\n",
       "      <td>3.892231e-05</td>\n",
       "      <td>4.770539e-05</td>\n",
       "      <td>...</td>\n",
       "      <td>1.413018e-04</td>\n",
       "      <td>8.176260e-04</td>\n",
       "      <td>5.837555e-05</td>\n",
       "      <td>6.332245e-05</td>\n",
       "      <td>3.918529e-05</td>\n",
       "      <td>7.274003e-05</td>\n",
       "      <td>3.714273e-03</td>\n",
       "      <td>1.736700e-04</td>\n",
       "      <td>3.717621e-02</td>\n",
       "      <td>3.077052e-03</td>\n",
       "    </tr>\n",
       "    <tr>\n",
       "      <th>10355</th>\n",
       "      <td>864e7e1f739a6f4a905c9d512aae5e43</td>\n",
       "      <td>2.589602e-02</td>\n",
       "      <td>5.931244e-10</td>\n",
       "      <td>3.094869e-11</td>\n",
       "      <td>2.937382e-11</td>\n",
       "      <td>8.481818e-10</td>\n",
       "      <td>1.012685e-09</td>\n",
       "      <td>3.083289e-09</td>\n",
       "      <td>3.752991e-12</td>\n",
       "      <td>6.697141e-10</td>\n",
       "      <td>...</td>\n",
       "      <td>1.128052e-09</td>\n",
       "      <td>5.138723e-11</td>\n",
       "      <td>5.712272e-11</td>\n",
       "      <td>6.332572e-12</td>\n",
       "      <td>3.849122e-11</td>\n",
       "      <td>6.683126e-11</td>\n",
       "      <td>2.157109e-10</td>\n",
       "      <td>1.455125e-11</td>\n",
       "      <td>2.958104e-12</td>\n",
       "      <td>1.682598e-09</td>\n",
       "    </tr>\n",
       "    <tr>\n",
       "      <th>10356</th>\n",
       "      <td>7d456cad378a38055723949d8cbbb811</td>\n",
       "      <td>1.515554e-06</td>\n",
       "      <td>6.993865e-05</td>\n",
       "      <td>2.262993e-06</td>\n",
       "      <td>7.237260e-05</td>\n",
       "      <td>2.175841e-06</td>\n",
       "      <td>7.475277e-06</td>\n",
       "      <td>1.451245e-04</td>\n",
       "      <td>1.307404e-06</td>\n",
       "      <td>3.146297e-05</td>\n",
       "      <td>...</td>\n",
       "      <td>2.680049e-04</td>\n",
       "      <td>3.749651e-06</td>\n",
       "      <td>5.491414e-06</td>\n",
       "      <td>5.714373e-06</td>\n",
       "      <td>9.780388e-06</td>\n",
       "      <td>1.697693e-05</td>\n",
       "      <td>3.022556e-04</td>\n",
       "      <td>7.936455e-07</td>\n",
       "      <td>6.897535e-04</td>\n",
       "      <td>3.271978e-05</td>\n",
       "    </tr>\n",
       "  </tbody>\n",
       "</table>\n",
       "<p>5 rows × 121 columns</p>\n",
       "</div>"
      ],
      "text/plain": [
       "                                     id  affenpinscher  afghan_hound  \\\n",
       "10352  d7cbc532e819d760ab9e418654cef03f   6.268459e-07  9.758544e-07   \n",
       "10353  4250d92ca08a7c19bc0f6cb375a2b4ed   8.502207e-07  5.263835e-08   \n",
       "10354  a191db53dbd439ca46590a60906e4e55   7.006122e-04  2.893562e-04   \n",
       "10355  864e7e1f739a6f4a905c9d512aae5e43   2.589602e-02  5.931244e-10   \n",
       "10356  7d456cad378a38055723949d8cbbb811   1.515554e-06  6.993865e-05   \n",
       "\n",
       "       african_hunting_dog      airedale  american_staffordshire_terrier  \\\n",
       "10352         8.270808e-07  3.403844e-07                    5.588909e-06   \n",
       "10353         2.364226e-06  1.240829e-09                    3.155688e-01   \n",
       "10354         4.290245e-05  3.522918e-04                    9.328080e-06   \n",
       "10355         3.094869e-11  2.937382e-11                    8.481818e-10   \n",
       "10356         2.262993e-06  7.237260e-05                    2.175841e-06   \n",
       "\n",
       "        appenzeller  australian_terrier       basenji        basset  \\\n",
       "10352  3.975547e-07        4.376219e-04  5.747105e-04  1.752363e-06   \n",
       "10353  1.603755e-06        2.547312e-07  1.057684e-05  4.917315e-06   \n",
       "10354  2.136298e-05        6.412952e-03  3.892231e-05  4.770539e-05   \n",
       "10355  1.012685e-09        3.083289e-09  3.752991e-12  6.697141e-10   \n",
       "10356  7.475277e-06        1.451245e-04  1.307404e-06  3.146297e-05   \n",
       "\n",
       "             ...            toy_poodle   toy_terrier        vizsla  \\\n",
       "10352        ...          1.705889e-07  1.105771e-06  4.209434e-08   \n",
       "10353        ...          1.818661e-08  3.220006e-07  1.763911e-07   \n",
       "10354        ...          1.413018e-04  8.176260e-04  5.837555e-05   \n",
       "10355        ...          1.128052e-09  5.138723e-11  5.712272e-11   \n",
       "10356        ...          2.680049e-04  3.749651e-06  5.491414e-06   \n",
       "\n",
       "       walker_hound    weimaraner  welsh_springer_spaniel  \\\n",
       "10352  8.324439e-08  9.245452e-09            3.936618e-06   \n",
       "10353  5.680766e-06  9.148500e-07            1.503754e-07   \n",
       "10354  6.332245e-05  3.918529e-05            7.274003e-05   \n",
       "10355  6.332572e-12  3.849122e-11            6.683126e-11   \n",
       "10356  5.714373e-06  9.780388e-06            1.697693e-05   \n",
       "\n",
       "       west_highland_white_terrier       whippet  wire-haired_fox_terrier  \\\n",
       "10352                 3.413984e-05  4.316437e-07             2.027513e-06   \n",
       "10353                 1.316762e-05  5.313472e-05             6.961033e-07   \n",
       "10354                 3.714273e-03  1.736700e-04             3.717621e-02   \n",
       "10355                 2.157109e-10  1.455125e-11             2.958104e-12   \n",
       "10356                 3.022556e-04  7.936455e-07             6.897535e-04   \n",
       "\n",
       "       yorkshire_terrier  \n",
       "10352       1.264117e-06  \n",
       "10353       4.218220e-07  \n",
       "10354       3.077052e-03  \n",
       "10355       1.682598e-09  \n",
       "10356       3.271978e-05  \n",
       "\n",
       "[5 rows x 121 columns]"
      ]
     },
     "execution_count": 23,
     "metadata": {},
     "output_type": "execute_result"
    }
   ],
   "source": [
    "sub.tail(5)"
   ]
  },
  {
   "cell_type": "code",
   "execution_count": 24,
   "metadata": {},
   "outputs": [],
   "source": [
    "sub.to_csv(f'{PATH}results/submission4.csv', index=False)"
   ]
  },
  {
   "cell_type": "code",
   "execution_count": null,
   "metadata": {},
   "outputs": [],
   "source": []
  }
 ],
 "metadata": {
  "kernelspec": {
   "display_name": "Python 3",
   "language": "python",
   "name": "python3"
  },
  "language_info": {
   "codemirror_mode": {
    "name": "ipython",
    "version": 3
   },
   "file_extension": ".py",
   "mimetype": "text/x-python",
   "name": "python",
   "nbconvert_exporter": "python",
   "pygments_lexer": "ipython3",
   "version": "3.6.3"
  }
 },
 "nbformat": 4,
 "nbformat_minor": 2
}
